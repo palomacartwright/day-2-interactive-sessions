{
 "cells": [
  {
   "cell_type": "markdown",
   "id": "4a1edcf3",
   "metadata": {},
   "source": [
    "## Introduction to Jupyter Notebooks\n",
    "\n",
    "### Paloma Cartwright \n",
    "\n",
    "#### EDS 212\n",
    "\n",
    "##### August 3rd, 2021 \n"
   ]
  },
  {
   "cell_type": "code",
   "execution_count": 4,
   "id": "2e4463f3",
   "metadata": {},
   "outputs": [],
   "source": [
    "teddy = 10 "
   ]
  },
  {
   "cell_type": "code",
   "execution_count": 5,
   "id": "0a4f3cc4",
   "metadata": {},
   "outputs": [
    {
     "data": {
      "text/plain": [
       "10"
      ]
     },
     "execution_count": 5,
     "metadata": {},
     "output_type": "execute_result"
    }
   ],
   "source": [
    "teddy "
   ]
  },
  {
   "cell_type": "code",
   "execution_count": 6,
   "id": "0e338cd3",
   "metadata": {},
   "outputs": [
    {
     "data": {
      "text/plain": [
       "30"
      ]
     },
     "execution_count": 6,
     "metadata": {},
     "output_type": "execute_result"
    }
   ],
   "source": [
    "teddy + 20 "
   ]
  },
  {
   "cell_type": "code",
   "execution_count": 7,
   "id": "0cfa1ef7",
   "metadata": {},
   "outputs": [],
   "source": [
    "def my_sum(apples, bananas):\n",
    "    fruit_total = apples + bananas \n",
    "    print(fruit_total)"
   ]
  },
  {
   "cell_type": "code",
   "execution_count": 8,
   "id": "0e98d644",
   "metadata": {},
   "outputs": [
    {
     "name": "stdout",
     "output_type": "stream",
     "text": [
      "11\n"
     ]
    }
   ],
   "source": [
    "my_sum(4, 7)"
   ]
  },
  {
   "cell_type": "code",
   "execution_count": 9,
   "id": "a4546dfe",
   "metadata": {},
   "outputs": [
    {
     "name": "stdout",
     "output_type": "stream",
     "text": [
      "11\n"
     ]
    }
   ],
   "source": [
    "my_sum(apples = 4, bananas = 7)"
   ]
  },
  {
   "cell_type": "code",
   "execution_count": null,
   "id": "d50c7319",
   "metadata": {},
   "outputs": [],
   "source": []
  }
 ],
 "metadata": {
  "kernelspec": {
   "display_name": "Python 3",
   "language": "python",
   "name": "python3"
  },
  "language_info": {
   "codemirror_mode": {
    "name": "ipython",
    "version": 3
   },
   "file_extension": ".py",
   "mimetype": "text/x-python",
   "name": "python",
   "nbconvert_exporter": "python",
   "pygments_lexer": "ipython3",
   "version": "3.8.8"
  }
 },
 "nbformat": 4,
 "nbformat_minor": 5
}
